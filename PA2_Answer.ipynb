{
  "cells": [
    {
      "cell_type": "code",
      "execution_count": null,
      "id": "3a4cd103",
      "metadata": {
        "id": "3a4cd103"
      },
      "outputs": [],
      "source": [
        "# Author: Roi Yehoshua\n",
        "# Date: January 2024\n",
        "# MIT License\n",
        "\n",
        "# Based on the PyTorch implementation from https://nlp.seas.harvard.edu/annotated-transformer/"
      ]
    },
    {
      "cell_type": "code",
      "execution_count": null,
      "id": "8b6bbb42",
      "metadata": {
        "colab": {
          "base_uri": "https://localhost:8080/"
        },
        "id": "8b6bbb42",
        "outputId": "d19ce82a-e0b5-4e53-d39d-0c32463fc05d"
      },
      "outputs": [
        {
          "output_type": "stream",
          "name": "stdout",
          "text": [
            "Found existing installation: torch 2.1.0\n",
            "Uninstalling torch-2.1.0:\n",
            "  Successfully uninstalled torch-2.1.0\n",
            "\u001b[33mWARNING: Skipping torchvision as it is not installed.\u001b[0m\u001b[33m\n",
            "\u001b[0mFound existing installation: torchtext 0.16.0\n",
            "Uninstalling torchtext-0.16.0:\n",
            "  Successfully uninstalled torchtext-0.16.0\n",
            "Found existing installation: torchdata 0.7.0\n",
            "Uninstalling torchdata-0.7.0:\n",
            "  Successfully uninstalled torchdata-0.7.0\n"
          ]
        }
      ],
      "source": [
        "# Make sure you have the following packages installed:\n",
        "!pip uninstall torch torchvision torchtext torchdata -y"
      ]
    },
    {
      "cell_type": "code",
      "execution_count": null,
      "id": "lJtPjKXC_jd8",
      "metadata": {
        "colab": {
          "base_uri": "https://localhost:8080/"
        },
        "id": "lJtPjKXC_jd8",
        "outputId": "df8fd0a0-0c6d-445b-8c27-bc19e72a6da8"
      },
      "outputs": [
        {
          "output_type": "stream",
          "name": "stdout",
          "text": [
            "Python 3.10.12\n"
          ]
        }
      ],
      "source": [
        "!python --version\n"
      ]
    },
    {
      "cell_type": "code",
      "execution_count": null,
      "id": "dn4IURuX9zng",
      "metadata": {
        "colab": {
          "base_uri": "https://localhost:8080/"
        },
        "id": "dn4IURuX9zng",
        "outputId": "c4cc489b-f252-46f6-89f0-8fe2b864faf6"
      },
      "outputs": [
        {
          "output_type": "stream",
          "name": "stdout",
          "text": [
            "\u001b[31mERROR: pip's dependency resolver does not currently take into account all the packages that are installed. This behaviour is the source of the following dependency conflicts.\n",
            "fastai 2.7.17 requires torchvision>=0.11, which is not installed.\n",
            "torchaudio 2.4.1+cu121 requires torch==2.4.1, but you have torch 2.1.0 which is incompatible.\u001b[0m\u001b[31m\n",
            "\u001b[0m"
          ]
        }
      ],
      "source": [
        "!pip install torch==2.1.0 torchdata==0.7.0 torchtext==0.16.0 portalocker==2.10.0 --quiet\n"
      ]
    },
    {
      "cell_type": "code",
      "execution_count": null,
      "id": "62a5dee5",
      "metadata": {
        "id": "62a5dee5"
      },
      "outputs": [],
      "source": [
        "import torch\n",
        "import torch.nn as nn\n",
        "import torch.optim as optim\n",
        "import math\n",
        "import spacy\n",
        "import os\n",
        "\n",
        "from torchtext.data.utils import get_tokenizer\n",
        "from torchtext.vocab import build_vocab_from_iterator\n",
        "from torchtext.datasets import Multi30k\n",
        "from torch.nn.utils.rnn import pad_sequence\n",
        "from torch.utils.data import DataLoader"
      ]
    },
    {
      "cell_type": "code",
      "execution_count": null,
      "id": "b17027ed",
      "metadata": {
        "colab": {
          "base_uri": "https://localhost:8080/"
        },
        "id": "b17027ed",
        "outputId": "a41db5aa-0ab4-4e05-e268-2449df723566"
      },
      "outputs": [
        {
          "output_type": "execute_result",
          "data": {
            "text/plain": [
              "device(type='cuda')"
            ]
          },
          "metadata": {},
          "execution_count": 98
        }
      ],
      "source": [
        "torch.manual_seed(42)  # For reproducibility\n",
        "device = torch.device('cuda' if torch.cuda.is_available() else 'cpu')\n",
        "device"
      ]
    },
    {
      "cell_type": "markdown",
      "id": "ffad93f9",
      "metadata": {
        "id": "ffad93f9"
      },
      "source": [
        "### Multi-Head Attention\n",
        "\n",
        "$$\n",
        "    \\text{MultiHead}(Q, K, V) = \\text{Concat}(\\text{head}_1, \\ldots, \\text{head}_h)W^O \\\\\n",
        "    \\text{head}_i = \\text{Attention}(QW_i^Q, KW_i^K, VW_i^V) \\\\  \n",
        "    \\text{Attention}(Q, K, V) = \\text{softmax}\\left(\\frac{QK^T}{\\sqrt{d_k}}\\right)V\n",
        "$$"
      ]
    },
    {
      "cell_type": "code",
      "execution_count": null,
      "id": "bf156177",
      "metadata": {
        "id": "bf156177"
      },
      "outputs": [],
      "source": [
        "class MultiHeadAttention(nn.Module):\n",
        "    \"\"\"The multi-head attention module\"\"\"\n",
        "    def __init__(self, d_model, num_heads):\n",
        "        super().__init__()\n",
        "\n",
        "        # Ensure the dimension of the model is divisible by the number of heads.\n",
        "        # This is necessary to equally divide the embedding dimension across heads.\n",
        "        assert d_model % num_heads == 0, 'd_model must be divisible by num_heads'\n",
        "\n",
        "        self.d_model = d_model           # Total dimension of the model\n",
        "        self.num_heads = num_heads       # Number of attention heads\n",
        "        self.d_k = d_model // num_heads  # Dimnsion of each head. We assume d_v = d_k\n",
        "\n",
        "        # Linear transformations for queries, keys, and values\n",
        "        self.W_q = nn.Linear(d_model, d_model)\n",
        "        self.W_k = nn.Linear(d_model, d_model)\n",
        "        self.W_v = nn.Linear(d_model, d_model)\n",
        "\n",
        "        # Final linear layer to project the concatenated heads' outputs back to d_model dimensions\n",
        "        self.W_o = nn.Linear(d_model, d_model)\n",
        "\n",
        "    def scaled_dot_product_attention(self, Q, K, V, mask=None):\n",
        "        ### WRITE YOUR CODE HERE\n",
        "\n",
        "        # 1. Calculate attention scores with scaling.\n",
        "        # 2. Apply mask (if provided) by setting masked positions to a large negative value.\n",
        "        # 3. Apply softmax to attention scores to get probabilities.\n",
        "        # 4. Return the weighted sum of values based on attention probabilities.\n",
        "\n",
        "        d_k = K.size(-1)  # Dimension of key\n",
        "        scores = torch.matmul(Q, K.transpose(-2, -1)) / math.sqrt(d_k)\n",
        "\n",
        "        # 2. Apply mask (if provided) - set to a large negative value\n",
        "        if mask is not None:\n",
        "          scores = scores.masked_fill(mask == 0, -1e9)\n",
        "\n",
        "        # 3. Apply softmax to get the attention probabilities\n",
        "        attn = torch.softmax(scores, dim=-1)\n",
        "\n",
        "        # 4. Multiply the attention probabilities by values\n",
        "        output = torch.matmul(attn, V)\n",
        "\n",
        "        return output\n",
        "\n",
        "    def split_heads(self, x):\n",
        "        # Reshape the input tensor to [batch_size, num_heads, seq_length, d_k]\n",
        "        # to prepare for multi-head attention processing\n",
        "        batch_size, seq_length, d_model = x.size()\n",
        "        return x.view(batch_size, seq_length, self.num_heads, self.d_k).transpose(1, 2)\n",
        "\n",
        "    def combine_heads(self, x):\n",
        "        # Inverse operation of split_heads: combine the head outputs back into the original tensor shape\n",
        "        # [batch_size, seq_length, d_model]\n",
        "        batch_size, num_heads, seq_length, d_k = x.size()\n",
        "        return x.transpose(1, 2).contiguous().view(batch_size, seq_length, self.d_model)\n",
        "\n",
        "    def forward(self, Q, K, V, mask=None):\n",
        "        ### WRITE YOUR CODE HERE\n",
        "\n",
        "        # 1. Linearly project the queries, keys, and values, and then split them into heads.\n",
        "        # 2. Apply scaled dot-product attention for each head.\n",
        "        # 3. Concatenate the heads' outputs and apply the final linear projection.\n",
        "\n",
        "        # 1. Linearly project the queries, keys, and values\n",
        "        Q = self.split_heads(self.W_q(Q))  # [batch_size, num_heads, seq_length, d_k]\n",
        "        K = self.split_heads(self.W_k(K))  # [batch_size, num_heads, seq_length, d_k]\n",
        "        V = self.split_heads(self.W_v(V))  # [batch_size, num_heads, seq_length, d_k]\n",
        "\n",
        "        # 2. Apply scaled dot-product attention\n",
        "        attn_output = self.scaled_dot_product_attention(Q, K, V, mask)\n",
        "\n",
        "        # 3. Concatenate heads and apply final linear projection\n",
        "        attn_output = self.combine_heads(attn_output)  # [batch_size, seq_length, d_model]\n",
        "        output = self.W_o(attn_output)\n",
        "\n",
        "        return output\n"
      ]
    },
    {
      "cell_type": "markdown",
      "id": "70b13867",
      "metadata": {
        "id": "70b13867"
      },
      "source": [
        "### Feed-Forward NN\n",
        "\n",
        "$$\n",
        "    \\text{FFN}(x) = \\max(0, xW_1 + b_1)W_2 + b_2\n",
        "$$"
      ]
    },
    {
      "cell_type": "code",
      "execution_count": null,
      "id": "5d5ab551",
      "metadata": {
        "id": "5d5ab551"
      },
      "outputs": [],
      "source": [
        "class PositionwiseFeedForward(nn.Module):\n",
        "    \"\"\"The Positionwise Feedforward Network (FFN) module\"\"\"\n",
        "    def __init__(self, d_model, d_ff, dropout=0.1):\n",
        "        super().__init__()\n",
        "        self.linear1 = nn.Linear(d_model, d_ff)\n",
        "        self.linear2 = nn.Linear(d_ff, d_model)\n",
        "        self.dropout = nn.Dropout(dropout)\n",
        "        self.relu = nn.ReLU()\n",
        "\n",
        "    def forward(self, x):\n",
        "    # Apply linear layer, ReLU, Dropout, and then another linear layer\n",
        "        x = self.dropout(self.relu(self.linear1(x)))\n",
        "        x = self.linear2(x)\n",
        "        return x\n",
        "\n"
      ]
    },
    {
      "cell_type": "markdown",
      "id": "4034ef0a",
      "metadata": {
        "id": "4034ef0a"
      },
      "source": [
        "### Positional Encoding\n",
        "\n",
        "$$\n",
        "    \\text{PE}(pos, 2i) = \\sin(pos/10000^{2i/d_{\\text{model}}}) \\\\\n",
        "    \\text{PE}(pos, 2i + 1) = \\cos(pos/10000^{2i/d_{\\text{model}}})\n",
        "$$"
      ]
    },
    {
      "cell_type": "code",
      "execution_count": null,
      "id": "bfca835c",
      "metadata": {
        "id": "bfca835c"
      },
      "outputs": [],
      "source": [
        "class PositionalEncoding(nn.Module):\n",
        "    \"\"\"\n",
        "    Implements the positional encoding module using sinusoidal functions of different frequencies\n",
        "    for each dimension of the encoding.\n",
        "    \"\"\"\n",
        "    def __init__(self, d_model, max_seq_length):\n",
        "        super().__init__()\n",
        "\n",
        "        # Create a positional encoding (PE) matrix with dimensions [max_seq_length, d_model].\n",
        "        # This matrix will contain the positional encodings for all possible positions up to max_seq_length.\n",
        "        pe = torch.zeros(max_seq_length, d_model)\n",
        "\n",
        "        # Generate a tensor of positions (0 to max_seq_length - 1) and reshape it to [max_seq_length, 1].\n",
        "        position = torch.arange(0, max_seq_length, dtype=torch.float).unsqueeze(1)\n",
        "\n",
        "        # Compute the division term used in the formulas for sin and cos functions.\n",
        "        # This term is based on the dimension of the model and the position, ensuring that the wavelengths\n",
        "        # form a geometric progression from 2π to 10000 * 2π. It uses only even indices for the dimensions.\n",
        "        div_term = torch.exp(torch.arange(0, d_model, 2).float() * (-math.log(10000.0) / d_model))\n",
        "\n",
        "        # Apply the sin function to even indices in the PE matrix. These values are determined by\n",
        "        # multiplying the position by the division term, creating a pattern where each position has\n",
        "        # a unique sinusoidal encoding.\n",
        "        pe[:, 0::2] = torch.sin(position * div_term)\n",
        "\n",
        "        # Apply the cos function to odd indices in the PE matrix, complementing the sin-encoded positions.\n",
        "        pe[:, 1::2] = torch.cos(position * div_term)\n",
        "\n",
        "        # Register 'pe' as a buffer within the module. Unlike parameters, buffers are not updated during training.\n",
        "        # This is crucial because positional encodings are fixed and not subject to training updates.\n",
        "        # The unsqueeze(0) adds a batch dimension for easier broadcasting with input tensors.\n",
        "        self.register_buffer('pe', pe.unsqueeze(0))\n",
        "\n",
        "    def forward(self, x):\n",
        "        # Add positional encoding to the input tensor x.\n",
        "        # x is expected to have dimensions [batch_size, seq_length, d_model].\n",
        "        # The positional encoding 'pe' is sliced to match the seq_length of 'x', and then added to 'x'.\n",
        "        # This operation leverages broadcasting to apply the same positional encoding across the batch.\n",
        "        x = x + self.pe[:, :x.size(1)]\n",
        "        return x"
      ]
    },
    {
      "cell_type": "markdown",
      "id": "96e2475b",
      "metadata": {
        "id": "96e2475b"
      },
      "source": [
        "### Encoder Layer"
      ]
    },
    {
      "cell_type": "code",
      "execution_count": null,
      "id": "000313c6",
      "metadata": {
        "id": "000313c6"
      },
      "outputs": [],
      "source": [
        "class EncoderLayer(nn.Module):\n",
        "    \"\"\"An encoder layer consists of a multi-head self-attention sublayer and a feed forward sublayer,\n",
        "       with a dropout, residual connection, and layer normalization after each sub-layer.\n",
        "    \"\"\"\n",
        "    def __init__(self, d_model, num_heads, d_ff, dropout):\n",
        "        super().__init__()\n",
        "        self.self_attn = MultiHeadAttention(d_model, num_heads)\n",
        "        self.feed_forward = PositionwiseFeedForward(d_model, d_ff, dropout)\n",
        "        self.layer_norm1 = nn.LayerNorm(d_model)\n",
        "        self.layer_norm2 = nn.LayerNorm(d_model)\n",
        "        self.dropout = nn.Dropout(dropout)\n",
        "\n",
        "    def forward(self, x, mask):\n",
        "        # Self-attention layer with residual connection and layer norm\n",
        "        attn_output = self.self_attn(x, x, x, mask)\n",
        "        x = self.layer_norm1(x + self.dropout(attn_output))\n",
        "\n",
        "        # Feed-forward layer with residual connection and layer norm\n",
        "        ff_output = self.feed_forward(x)\n",
        "        x = self.layer_norm2(x + self.dropout(ff_output))\n",
        "\n",
        "        return x\n",
        "\n",
        "\n",
        "\n",
        "\n"
      ]
    },
    {
      "cell_type": "markdown",
      "id": "76215e02",
      "metadata": {
        "id": "76215e02"
      },
      "source": [
        "### Decoder Layer"
      ]
    },
    {
      "cell_type": "code",
      "execution_count": null,
      "id": "ee27007e",
      "metadata": {
        "id": "ee27007e"
      },
      "outputs": [],
      "source": [
        "class DecoderLayer(nn.Module):\n",
        "    \"\"\"A decoder layer consists of a multi-head self-attention, cross-attention and a feed-forward sublayers,\n",
        "       with a dropout, residual connection, and layer normalization after each sub-layer.\n",
        "    \"\"\"\n",
        "    def __init__(self, d_model, num_heads, d_ff, dropout):\n",
        "        super().__init__()\n",
        "        self.self_attn = MultiHeadAttention(d_model, num_heads)\n",
        "        self.cross_attn = MultiHeadAttention(d_model, num_heads)\n",
        "        self.feed_forward = PositionwiseFeedForward(d_model, d_ff, dropout)\n",
        "        self.layer_norm1 = nn.LayerNorm(d_model)\n",
        "        self.layer_norm2 = nn.LayerNorm(d_model)\n",
        "        self.layer_norm3 = nn.LayerNorm(d_model)\n",
        "        self.dropout = nn.Dropout(dropout)\n",
        "\n",
        "    def forward(self, x, enc_output, src_mask, tgt_mask):\n",
        "        # Self-attention for target with residual connection\n",
        "        attn_output = self.self_attn(x, x, x, tgt_mask)\n",
        "        x = self.layer_norm1(x + self.dropout(attn_output))\n",
        "\n",
        "        # Cross-attention with encoder output and residual connection\n",
        "        attn_output = self.cross_attn(x, enc_output, enc_output, src_mask)\n",
        "        x = self.layer_norm2(x + self.dropout(attn_output))\n",
        "\n",
        "        # Feed-forward with residual connection\n",
        "        ff_output = self.feed_forward(x)\n",
        "        x = self.layer_norm3(x + self.dropout(ff_output))\n",
        "\n",
        "        return x\n",
        "\n",
        "\n"
      ]
    },
    {
      "cell_type": "markdown",
      "id": "2ad86614",
      "metadata": {
        "id": "2ad86614"
      },
      "source": [
        "### The Full Model"
      ]
    },
    {
      "cell_type": "code",
      "execution_count": null,
      "id": "31af1f2a",
      "metadata": {
        "id": "31af1f2a"
      },
      "outputs": [],
      "source": [
        "class Transformer(nn.Module):\n",
        "    \"\"\"\n",
        "    Implements the Transformer model for sequence-to-sequence tasks such as machine translation.\n",
        "    The Transformer model, as described in \"Attention is All You Need\" by Vaswani et al., consists of an encoder and\n",
        "    decoder architecture that uses self-attention mechanisms to process input sequences and generate output sequences.\n",
        "\n",
        "    Parameters:\n",
        "    - src_vocab_size (int): Size of the source vocabulary.\n",
        "    - tgt_vocab_size (int): Size of the target vocabulary.\n",
        "    - d_model (int): Dimension of the model embeddings and hidden states.\n",
        "    - N (int): Number of layers in both the encoder and decoder stacks.\n",
        "    - n_heads (int): Number of attention heads in each multi-head attention mechanism.\n",
        "    - d_ff (int): Dimension of the feed-forward network within each layer.\n",
        "    - max_seq_length (int): Maximum length of input sequences, used for positional encoding.\n",
        "    - dropout (float): Dropout rate applied to embeddings and sub-layers.\n",
        "    - pad_idx (int): Index of the padding token in the source and target vocabularies.\n",
        "\n",
        "    Attributes:\n",
        "    - src_embedding (torch.nn.Embedding): Embedding layer for source sequences.\n",
        "    - tgt_embedding (torch.nn.Embedding): Embedding layer for target sequences.\n",
        "    - positional_encoding (PositionalEncoding): Adds positional information to embeddings.\n",
        "    - encoder (torch.nn.ModuleList): Stack of N encoder layers.\n",
        "    - decoder (torch.nn.ModuleList): Stack of N decoder layers.\n",
        "    - out (torch.nn.Linear): Linear layer that projects decoder output to target vocabulary size.\n",
        "    - dropout (torch.nn.Dropout): Dropout layer applied after embedding and positional encoding.\n",
        "\n",
        "    Methods:\n",
        "    - init_weights: Initializes model parameters using Glorot uniform initialization.\n",
        "    - create_source_mask: Creates a mask for padding tokens in the source sequence to ignore them in attention computations.\n",
        "    - create_target_mask: Creates combined padding and future token masks for the target sequence to prevent attending to future tokens and padding tokens.\n",
        "    - encode: Processes the source sequence through the encoder stack and generates memory states.\n",
        "    - decode: Processes the target sequence through the decoder stack using memory states from the encoder and applicable masks.\n",
        "    - forward: Defines the forward pass of the model using the encode and decode methods.\n",
        "    \"\"\"\n",
        "    def __init__(self, src_vocab_size, tgt_vocab_size, d_model, N, n_heads, d_ff, max_seq_length, dropout, pad_idx):\n",
        "        super().__init__()\n",
        "\n",
        "        # Embedding layers for source and target\n",
        "        self.src_embedding = nn.Embedding(src_vocab_size, d_model)\n",
        "        self.tgt_embedding = nn.Embedding(tgt_vocab_size, d_model)\n",
        "\n",
        "        # Positional encoding\n",
        "        self.positional_encoding = PositionalEncoding(d_model, max_seq_length)\n",
        "\n",
        "        # Encoder and Decoder stacks\n",
        "        self.encoder = nn.ModuleList([EncoderLayer(d_model, num_heads, d_ff, dropout) for _ in range(N)])\n",
        "        self.decoder = nn.ModuleList([DecoderLayer(d_model, num_heads, d_ff, dropout) for _ in range(N)])\n",
        "\n",
        "        # Output linear layer\n",
        "        self.out = nn.Linear(d_model, tgt_vocab_size)\n",
        "\n",
        "        self.dropout = nn.Dropout(dropout)\n",
        "\n",
        "        # Initialization\n",
        "        self.init_weights()\n",
        "        self.pad_idx = pad_idx\n",
        "\n",
        "    def init_weights(self):\n",
        "        \"\"\"Initialize parameters with Glorot / fan_avg\"\"\"\n",
        "        for p in self.parameters():\n",
        "            if p.dim() > 1:\n",
        "                nn.init.xavier_uniform_(p)\n",
        "\n",
        "    def create_source_mask(self, src):\n",
        "        \"\"\"Create a mask for padding tokens in the source\"\"\"\n",
        "        src_mask = (src != self.pad_idx).unsqueeze(1).unsqueeze(2)  # [batch_size, 1, 1, src_len]\n",
        "        # unsqueeze(1) adds a dimension for the heads of the multi-head attention\n",
        "        # unsqueeze(2) adds a dimension for the attention scores\n",
        "        # This mask can be broadcasted across the src_len dimension of the attention scores,\n",
        "        # effectively masking out specific tokens across all heads and all positions in the sequence.\n",
        "        return src_mask\n",
        "\n",
        "    def create_target_mask(self, tgt):\n",
        "        \"\"\"Create masks for both padding tokens and future tokens\"\"\"\n",
        "        # Target padding mask\n",
        "        tgt_pad_mask = (tgt != self.pad_idx).unsqueeze(1).unsqueeze(3)  # [batch_size, 1, tgt_len, 1]\n",
        "        # unsqueeze(1) adds a dimension for the heads of the multi-head attention\n",
        "        # unsqueeze(3) adds a dimension for the attention scores\n",
        "        # The final shape allows the mask to be broadcast across the attention scores, ensuring positions only\n",
        "        # attend to allowed positions as dictated by the no-peak mask (the preceding positions) and the padding mask.\n",
        "\n",
        "        # Target no-peak mask\n",
        "        tgt_len = tgt.size(1)\n",
        "        tgt_nopeak_mask = torch.tril(torch.ones(tgt_len, tgt_len, device=device)).bool()\n",
        "\n",
        "        # Combine masks\n",
        "        tgt_mask = tgt_pad_mask & tgt_nopeak_mask  # [batch_size, 1, tgt_len, tgt_len]\n",
        "        return tgt_mask\n",
        "\n",
        "    def encode(self, src):\n",
        "        \"\"\"Encodes the source sequence using the Transformer encoder stack.\n",
        "        \"\"\"\n",
        "        src_mask = self.create_source_mask(src)\n",
        "        src = self.dropout(self.positional_encoding(self.src_embedding(src)))\n",
        "\n",
        "        # Pass through each layer in the encoder\n",
        "        for layer in self.encoder:\n",
        "            src = layer(src, src_mask)\n",
        "        return src, src_mask\n",
        "\n",
        "    def decode(self, tgt, memory, src_mask):\n",
        "        \"\"\"Decodes the target sequence using the Transformer decoder stack, given the memory from the encoder.\n",
        "        \"\"\"\n",
        "        tgt_mask = self.create_target_mask(tgt)\n",
        "        tgt = self.dropout(self.positional_encoding(self.tgt_embedding(tgt)))\n",
        "\n",
        "        # Pass through each layer in the decoder\n",
        "        for layer in self.decoder:\n",
        "            tgt = layer(tgt, memory, src_mask, tgt_mask)\n",
        "\n",
        "        # Output layer\n",
        "        output = self.out(tgt)\n",
        "        return output\n",
        "\n",
        "    def forward(self, src, tgt):\n",
        "      \"\"\"\n",
        "      Defines the forward pass of the Transformer model.\n",
        "\n",
        "      Parameters:\n",
        "      - src: Source sequence input tensor (batch_size, src_len)\n",
        "      - tgt: Target sequence input tensor (batch_size, tgt_len)\n",
        "\n",
        "      Returns:\n",
        "      - output: Final output tensor (batch_size, tgt_len, tgt_vocab_size)\n",
        "      \"\"\"\n",
        "\n",
        "      # Encode the source sequence\n",
        "      memory, src_mask = self.encode(src)\n",
        "\n",
        "      # Decode the target sequence using the encoder memory\n",
        "      output = self.decode(tgt, memory, src_mask)\n",
        "\n",
        "      return output\n"
      ]
    },
    {
      "cell_type": "code",
      "execution_count": null,
      "id": "11a3b60d",
      "metadata": {
        "id": "11a3b60d"
      },
      "outputs": [],
      "source": [
        "# Define the hyperparameters of the model\n",
        "src_vocab_size = 5000  # Size of source vocabulary\n",
        "tgt_vocab_size = 5000  # Size of target vocabulary\n",
        "d_model = 512          # Embedding dimension\n",
        "N = 6                  # Number of encoder and decoder layers\n",
        "num_heads = 8          # Number of attention heads\n",
        "d_ff = 2048            # Dimension of feed forward networks\n",
        "max_seq_length = 100   # Maximum sequence length\n",
        "dropout = 0.1          # Dropout rate\n",
        "pad_idx = 0            # Index of the padding token\n",
        "\n",
        "model = Transformer(src_vocab_size, tgt_vocab_size, d_model, N, num_heads, d_ff, max_seq_length, dropout, pad_idx)\n",
        "\n",
        "# Move the model to the appropriate device (GPU or CPU)\n",
        "model = model.to(device)"
      ]
    },
    {
      "cell_type": "markdown",
      "id": "050f7248",
      "metadata": {
        "id": "050f7248"
      },
      "source": [
        "### Testing on Random Data"
      ]
    },
    {
      "cell_type": "code",
      "execution_count": null,
      "id": "149dadd1",
      "metadata": {
        "id": "149dadd1"
      },
      "outputs": [],
      "source": [
        "# Generate random sample data\n",
        "torch.manual_seed(42)\n",
        "\n",
        "src_data = torch.randint(1, src_vocab_size, (64, max_seq_length)).to(device)  # (batch_size, seq_length)\n",
        "tgt_data = torch.randint(1, tgt_vocab_size, (64, max_seq_length)).to(device)  # (batch_size, seq_length)"
      ]
    },
    {
      "cell_type": "markdown",
      "id": "2d5b1c56",
      "metadata": {
        "id": "2d5b1c56"
      },
      "source": [
        "#### Inference"
      ]
    },
    {
      "cell_type": "code",
      "execution_count": null,
      "id": "45583975",
      "metadata": {
        "colab": {
          "base_uri": "https://localhost:8080/"
        },
        "id": "45583975",
        "outputId": "0e3c21ff-5350-4aa8-fe18-a07f1201b9a3"
      },
      "outputs": [
        {
          "output_type": "execute_result",
          "data": {
            "text/plain": [
              "tensor([990], device='cuda:0')"
            ]
          },
          "metadata": {},
          "execution_count": 107
        }
      ],
      "source": [
        "# Generate the next token using the first token in the first target tensor\n",
        "model.eval()\n",
        "\n",
        "memory, src_mask = model.encode(src_data[:1, :])\n",
        "output = model.decode(tgt_data[:1, :1], memory, src_mask)\n",
        "y = output.view(-1, tgt_vocab_size).argmax(-1)\n",
        "y"
      ]
    },
    {
      "cell_type": "markdown",
      "id": "18b7e1c5",
      "metadata": {
        "id": "18b7e1c5"
      },
      "source": [
        "If your code is correct, you should get tensor([990])."
      ]
    },
    {
      "cell_type": "markdown",
      "id": "a314148e",
      "metadata": {
        "id": "a314148e"
      },
      "source": [
        "#### Training"
      ]
    },
    {
      "cell_type": "code",
      "execution_count": null,
      "id": "2afd8ff3",
      "metadata": {
        "colab": {
          "base_uri": "https://localhost:8080/"
        },
        "id": "2afd8ff3",
        "outputId": "21fcfe78-ab21-4eee-be15-4db989c90475"
      },
      "outputs": [
        {
          "output_type": "stream",
          "name": "stdout",
          "text": [
            "Epoch: 1, Loss: 8.605189323425293\n",
            "Epoch: 2, Loss: 8.501506805419922\n",
            "Epoch: 3, Loss: 8.371408462524414\n",
            "Epoch: 4, Loss: 8.296951293945312\n"
          ]
        }
      ],
      "source": [
        "# Train the model for 10 epochs\n",
        "criterion = nn.CrossEntropyLoss(ignore_index=pad_idx)\n",
        "optimizer = optim.Adam(model.parameters(), lr=0.0005, betas=(0.9, 0.98), eps=1e-9)\n",
        "grad_clip = 1\n",
        "n_epochs = 10\n",
        "\n",
        "model.train()\n",
        "\n",
        "for epoch in range(n_epochs):\n",
        "    optimizer.zero_grad()\n",
        "\n",
        "    # Forward pass\n",
        "    output = model(src_data, tgt_data[:, :-1])\n",
        "\n",
        "    # tgt_data is of shape [batch_size, tgt_len]\n",
        "    # output is of shape [batch_size, tgt_len, tgt_vocab_size]\n",
        "    output = output.contiguous().view(-1, tgt_vocab_size)\n",
        "    tgt = tgt_data[:, 1:].contiguous().view(-1)\n",
        "    loss = criterion(output, tgt)\n",
        "\n",
        "    loss.backward()\n",
        "    nn.utils.clip_grad_norm_(model.parameters(), grad_clip)\n",
        "    optimizer.step()\n",
        "    print(f'Epoch: {epoch + 1}, Loss: {loss.item()}')"
      ]
    },
    {
      "cell_type": "markdown",
      "id": "42f36f48",
      "metadata": {
        "id": "42f36f48"
      },
      "source": [
        "You should see the loss decreasing from around 8.6 to 8.1."
      ]
    },
    {
      "cell_type": "markdown",
      "id": "71caa7ed",
      "metadata": {
        "id": "71caa7ed"
      },
      "source": [
        "### Machine Translation Example\n",
        "\n",
        "We now consider a real-world example using the Multi30k German-English translation task. This task is much smaller than the WMT task considered in the paper (only 30K sentence pairs compared to 4.5M pairs in the WMT-14 English-German dataset), but it illustrates the whole system. <br>\n",
        "It is recommended to run this example on Google Colab, or on a machine with a strong GPU."
      ]
    },
    {
      "cell_type": "markdown",
      "id": "3d6ecd8c",
      "metadata": {
        "id": "3d6ecd8c"
      },
      "source": [
        "#### Define Tokenizers"
      ]
    },
    {
      "cell_type": "code",
      "execution_count": 119,
      "id": "08f20abd",
      "metadata": {
        "id": "08f20abd",
        "colab": {
          "base_uri": "https://localhost:8080/"
        },
        "outputId": "e13ffc92-6a73-427a-851a-455f45d8addc"
      },
      "outputs": [
        {
          "output_type": "stream",
          "name": "stderr",
          "text": [
            "/usr/local/lib/python3.10/dist-packages/spacy/util.py:1740: UserWarning: [W111] Jupyter notebook detected: if using `prefer_gpu()` or `require_gpu()`, include it in the same cell right before `spacy.load()` to ensure that the model is loaded on the correct device. More information: http://spacy.io/usage/v3#jupyter-notebook-gpu\n",
            "  warnings.warn(Warnings.W111)\n"
          ]
        }
      ],
      "source": [
        "# Load spacy models for tokenization\n",
        "try:\n",
        "    spacy_de = spacy.load('de_core_news_sm')\n",
        "except IOError:\n",
        "    os.system(\"python -m spacy download de_core_news_sm\")\n",
        "    spacy_de = spacy.load('de_core_news_sm')\n",
        "\n",
        "try:\n",
        "    spacy_en = spacy.load('en_core_web_sm')\n",
        "except IOError:\n",
        "    os.system(\"python -m spacy download en_core_web_sm\")\n",
        "    spacy_en = spacy.load('en_core_web_sm')\n",
        "\n",
        "def tokenize_de(text):\n",
        "    return [tok.text for tok in spacy_de.tokenizer(text)]\n",
        "\n",
        "def tokenize_en(text):\n",
        "    return [tok.text for tok in spacy_en.tokenizer(text)]\n",
        "\n",
        "def yield_tokens(data_iter, tokenizer, language):\n",
        "    for data_sample in data_iter:\n",
        "        yield tokenizer(data_sample[language])\n",
        "\n",
        "tokenizer_de = get_tokenizer(tokenize_de)\n",
        "tokenizer_en = get_tokenizer(tokenize_en)"
      ]
    },
    {
      "cell_type": "markdown",
      "id": "e909ce2a",
      "metadata": {
        "id": "e909ce2a"
      },
      "source": [
        "#### Build Vocabularies"
      ]
    },
    {
      "cell_type": "code",
      "execution_count": 120,
      "id": "aed8dff9",
      "metadata": {
        "id": "aed8dff9"
      },
      "outputs": [],
      "source": [
        "train_data, _, _ = Multi30k(split=('train', 'valid', 'test'))\n",
        "vocab_src = build_vocab_from_iterator(yield_tokens(train_data, tokenizer_de, 0),\n",
        "                                      specials=['<unk>', '<pad>', '<bos>', '<eos>'])\n",
        "vocab_tgt = build_vocab_from_iterator(yield_tokens(train_data, tokenizer_en, 1),\n",
        "                                      specials=['<unk>', '<pad>', '<bos>', '<eos>'])\n",
        "\n",
        "vocab_src.set_default_index(vocab_src['<unk>'])\n",
        "vocab_tgt.set_default_index(vocab_tgt['<unk>'])"
      ]
    },
    {
      "cell_type": "markdown",
      "id": "936560a1",
      "metadata": {
        "id": "936560a1"
      },
      "source": [
        "#### Create the Transformer"
      ]
    },
    {
      "cell_type": "code",
      "execution_count": 121,
      "id": "4c862170",
      "metadata": {
        "id": "4c862170",
        "collapsed": true
      },
      "outputs": [],
      "source": [
        "# Define the hyperparameters of the model\n",
        "src_vocab_size = len(vocab_src)  # Size of source vocabulary\n",
        "tgt_vocab_size = len(vocab_tgt)  # Size of target vocabulary\n",
        "d_model = 512  # Embedding dimension\n",
        "N = 6          # Number of encoder and decoder layers\n",
        "num_heads = 8  # Number of attention heads\n",
        "d_ff = 2048    # Dimension of feed forward networks\n",
        "max_seq_length = 5000 # Maximum sequence length\n",
        "dropout = 0.1  # Dropout rate\n",
        "\n",
        "# Assume pad_idx is the padding index in the target vocabulary\n",
        "pad_idx = vocab_tgt['<pad>']\n",
        "\n",
        "# Initialize the Transformer model\n",
        "model = Transformer(src_vocab_size, tgt_vocab_size, d_model, N, num_heads, d_ff, max_seq_length, dropout, pad_idx)\n",
        "\n",
        "# Move the model to the appropriate device (GPU or CPU)\n",
        "device = torch.device('cuda' if torch.cuda.is_available() else 'cpu')\n",
        "model = model.to(device)\n",
        "\n",
        "# Hyperparameters for the training process\n",
        "batch_size = 128\n",
        "grad_clip = 1\n",
        "optimizer = optim.Adam(model.parameters(), lr=0.0001, betas=(0.9, 0.98), eps=1e-9)\n",
        "\n",
        "# Initialize the loss function with CrossEntropyLoss, ignoring the padding index\n",
        "criterion = nn.CrossEntropyLoss(ignore_index=pad_idx)"
      ]
    },
    {
      "cell_type": "markdown",
      "id": "b3d3b94d",
      "metadata": {
        "id": "b3d3b94d"
      },
      "source": [
        "#### Data Processing"
      ]
    },
    {
      "cell_type": "code",
      "execution_count": 122,
      "id": "3ca10d94",
      "metadata": {
        "id": "3ca10d94"
      },
      "outputs": [],
      "source": [
        "def data_process(raw_data_iter):\n",
        "    data = []\n",
        "    for raw_src, raw_tgt in raw_data_iter:\n",
        "        src_tensor = torch.tensor([vocab_src[token] for token in tokenizer_de(raw_src)], dtype=torch.long)\n",
        "        tgt_tensor = torch.tensor([vocab_tgt[token] for token in tokenizer_en(raw_tgt)], dtype=torch.long)\n",
        "        data.append((src_tensor, tgt_tensor))\n",
        "    return data\n",
        "\n",
        "train_data, valid_data, test_data = Multi30k(split=('train', 'valid', 'test'))\n",
        "train_data = data_process(train_data)\n",
        "valid_data = data_process(valid_data)\n",
        "#test_data = data_process(test_data)\n",
        "# The test set of Multi30k is corrupted\n",
        "# See https://discuss.pytorch.org/t/unicodedecodeerror-when-running-test-iterator/192818/3"
      ]
    },
    {
      "cell_type": "code",
      "execution_count": 123,
      "id": "1c2f452a",
      "metadata": {
        "id": "1c2f452a"
      },
      "outputs": [],
      "source": [
        "def generate_batch(data_batch):\n",
        "    \"\"\"Processes a batch of source-target pairs by adding start-of-sequence (BOS) and end-of-sequence (EOS) tokens\n",
        "    to each sequence and padding all sequences to the same length.\n",
        "\n",
        "    Parameters:\n",
        "    - data_batch (Iterable[Tuple[Tensor, Tensor]]): A batch of source-target pairs, where each element is a tuple\n",
        "      containing the source sequence tensor and the target sequence tensor.\n",
        "    \"\"\"\n",
        "    src_batch, tgt_batch = [], []\n",
        "    src_batch, tgt_batch = [], []\n",
        "\n",
        "    # Iterate over each source-target pair in the provided batch\n",
        "    for src_item, tgt_item in data_batch:\n",
        "        # Prepend the start-of-sequence (BOS) token and append the end-of-sequence (EOS) token to the sequences\n",
        "        src_batch.append(torch.cat([torch.tensor([vocab_src['<bos>']]), src_item,\n",
        "                                    torch.tensor([vocab_src['<eos>']])], dim=0))\n",
        "        tgt_batch.append(torch.cat([torch.tensor([vocab_tgt['<bos>']]), tgt_item,\n",
        "                                    torch.tensor([vocab_tgt['<eos>']])], dim=0))\n",
        "\n",
        "    # Pad the sequences in the source batch to ensure they all have the same length.\n",
        "    # 'batch_first=True' indicates that the batch dimension should come first in the resulting tensor.\n",
        "    src_batch = pad_sequence(src_batch, padding_value=vocab_src['<pad>'], batch_first=True)\n",
        "    tgt_batch = pad_sequence(tgt_batch, padding_value=vocab_tgt['<pad>'], batch_first=True)\n",
        "    return src_batch, tgt_batch\n",
        "\n",
        "# DataLoader for the training data, using the generate_batch function as the collate_fn.\n",
        "# This allows custom processing of each batch (adding BOS/EOS tokens and padding) before being fed into the model.\n",
        "train_iterator = DataLoader(train_data, batch_size=batch_size, shuffle=True, collate_fn=generate_batch)\n",
        "\n",
        "# Similarly, DataLoader for the validation data\n",
        "valid_iterator = DataLoader(valid_data, batch_size=batch_size, shuffle=True, collate_fn=generate_batch)"
      ]
    },
    {
      "cell_type": "code",
      "execution_count": 124,
      "id": "2cbd8431",
      "metadata": {
        "id": "2cbd8431"
      },
      "outputs": [],
      "source": [
        "def train(model, iterator, optimizer, criterion, grad_clip):\n",
        "    \"\"\"\n",
        "    Trains the model for one epoch over the given dataset.\n",
        "    This function iterates over the provided data iterator, performing the forward and backward passes for each batch.\n",
        "    It employs teacher forcing by feeding the shifted target sequence (excluding the last token) as input to the decoder.\n",
        "\n",
        "    Parameters:\n",
        "    - model (torch.nn.Module): The model to be trained.\n",
        "    - iterator (Iterable): An iterable object that returns batches of data.\n",
        "    - optimizer (torch.optim.Optimizer): The optimizer to use for updating the model parameters.\n",
        "    - criterion (Callable): The loss function used to compute the difference between the model's predictions and the actual targets.\n",
        "    - grad_clip (float): The maximum norm of the gradients for gradient clipping.\n",
        "\n",
        "    Returns:\n",
        "    - float: The average loss for the epoch, computed as the total loss over all batches divided by the number of batches in the iterator.\n",
        "    \"\"\"\n",
        "    # Set the model to training mode.\n",
        "    # This enables dropout, layer normalization etc., which behave differently during training.\n",
        "    model.train()\n",
        "\n",
        "    epoch_loss = 0\n",
        "\n",
        "    # Enumerate over the data iterator to get batches\n",
        "    for i, batch in enumerate(iterator):\n",
        "        # Unpack the batch to get source (src) and target (tgt) sequences\n",
        "        src, tgt = batch\n",
        "        src, tgt = src.to(device), tgt.to(device)\n",
        "        optimizer.zero_grad()\n",
        "\n",
        "        # Forward pass through the model.\n",
        "        # For seq2seq models, the decoder input (tgt[:, :-1]) excludes the last token, implementing teacher forcing.\n",
        "        output = model(src, tgt[:, :-1])\n",
        "\n",
        "        # Reshape the output and target tensors to compute loss.\n",
        "        # The output tensor is reshaped to a 2D tensor where rows correspond to each token in the batch and columns to vocabulary size.\n",
        "\n",
        "        # tgt is of shape [batch_size, tgt_len]\n",
        "        # output is of shape [batch_size, tgt_len, tgt_vocab_size]\n",
        "        output = output.contiguous().view(-1, tgt_vocab_size)\n",
        "\n",
        "        # The target tensor is reshaped to a 1D tensor, excluding the first token (BOS) from each sequence.\n",
        "        tgt = tgt[:, 1:].contiguous().view(-1)\n",
        "\n",
        "        # Compute loss, perform backpropagation, and update model parameters\n",
        "        loss = criterion(output, tgt)\n",
        "        loss.backward()\n",
        "        nn.utils.clip_grad_norm_(model.parameters(), grad_clip)\n",
        "        optimizer.step()\n",
        "        epoch_loss += loss.item()\n",
        "\n",
        "    # Compute average loss per batch for the current epoch\n",
        "    return epoch_loss / len(iterator)"
      ]
    },
    {
      "cell_type": "code",
      "execution_count": 125,
      "id": "31d18844",
      "metadata": {
        "id": "31d18844"
      },
      "outputs": [],
      "source": [
        "def evaluate(model, iterator, criterion):\n",
        "    \"\"\"\n",
        "    Evaluates the model's performance on a given dataset.\n",
        "    This function is similar to the training loop, but without the backward pass and parameter updates.\n",
        "    \"\"\"\n",
        "    model.eval()\n",
        "    epoch_loss = 0\n",
        "\n",
        "    with torch.no_grad():\n",
        "        for i, batch in enumerate(iterator):\n",
        "            src, tgt = batch\n",
        "            src, tgt = src.to(device), tgt.to(device)\n",
        "            output = model(src, tgt[:, :-1])\n",
        "            output_dim = output.shape[-1]\n",
        "            output = output.contiguous().view(-1, output_dim)\n",
        "            tgt = tgt[:, 1:].contiguous().view(-1)\n",
        "            loss = criterion(output, tgt)\n",
        "            epoch_loss += loss.item()\n",
        "\n",
        "    return epoch_loss / len(iterator)"
      ]
    },
    {
      "cell_type": "markdown",
      "id": "7ba53f24",
      "metadata": {
        "id": "7ba53f24"
      },
      "source": [
        "#### Training the Model"
      ]
    },
    {
      "cell_type": "code",
      "execution_count": 126,
      "id": "d02463b8",
      "metadata": {
        "id": "d02463b8",
        "colab": {
          "base_uri": "https://localhost:8080/"
        },
        "outputId": "97debc98-6814-4a74-ab29-a3c7ddab07e3"
      },
      "outputs": [
        {
          "output_type": "stream",
          "name": "stdout",
          "text": [
            "\n",
            "Epoch: 1\n",
            "\tTrain Loss: 5.696\n",
            "\tVal Loss: 5.012\n",
            "\n",
            "Epoch: 2\n",
            "\tTrain Loss: 4.871\n",
            "\tVal Loss: 4.778\n",
            "\n",
            "Epoch: 3\n",
            "\tTrain Loss: 4.672\n",
            "\tVal Loss: 4.546\n",
            "\n",
            "Epoch: 4\n",
            "\tTrain Loss: 4.378\n",
            "\tVal Loss: 4.201\n",
            "\n",
            "Epoch: 5\n",
            "\tTrain Loss: 4.092\n",
            "\tVal Loss: 4.036\n",
            "\n",
            "Epoch: 6\n",
            "\tTrain Loss: 3.906\n",
            "\tVal Loss: 3.889\n",
            "\n",
            "Epoch: 7\n",
            "\tTrain Loss: 3.760\n",
            "\tVal Loss: 3.771\n",
            "\n",
            "Epoch: 8\n",
            "\tTrain Loss: 3.634\n",
            "\tVal Loss: 3.684\n",
            "\n",
            "Epoch: 9\n",
            "\tTrain Loss: 3.534\n",
            "\tVal Loss: 3.614\n",
            "\n",
            "Epoch: 10\n",
            "\tTrain Loss: 3.451\n",
            "\tVal Loss: 3.562\n",
            "\n",
            "Epoch: 11\n",
            "\tTrain Loss: 3.386\n",
            "\tVal Loss: 3.510\n",
            "\n",
            "Epoch: 12\n",
            "\tTrain Loss: 3.323\n",
            "\tVal Loss: 3.491\n",
            "\n",
            "Epoch: 13\n",
            "\tTrain Loss: 3.259\n",
            "\tVal Loss: 3.416\n",
            "\n",
            "Epoch: 14\n",
            "\tTrain Loss: 3.196\n",
            "\tVal Loss: 3.372\n",
            "\n",
            "Epoch: 15\n",
            "\tTrain Loss: 3.135\n",
            "\tVal Loss: 3.329\n",
            "\n",
            "Epoch: 16\n",
            "\tTrain Loss: 3.076\n",
            "\tVal Loss: 3.291\n",
            "\n",
            "Epoch: 17\n",
            "\tTrain Loss: 3.021\n",
            "\tVal Loss: 3.252\n",
            "\n",
            "Epoch: 18\n",
            "\tTrain Loss: 2.969\n",
            "\tVal Loss: 3.226\n",
            "\n",
            "Epoch: 19\n",
            "\tTrain Loss: 2.919\n",
            "\tVal Loss: 3.187\n",
            "\n",
            "Epoch: 20\n",
            "\tTrain Loss: 2.868\n",
            "\tVal Loss: 3.156\n"
          ]
        }
      ],
      "source": [
        "n_epochs = 20\n",
        "\n",
        "for epoch in range(n_epochs):\n",
        "    train_loss = train(model, train_iterator, optimizer, criterion, grad_clip)\n",
        "    val_loss = evaluate(model, valid_iterator, criterion)\n",
        "\n",
        "    print(f'\\nEpoch: {epoch + 1}')\n",
        "    print(f'\\tTrain Loss: {train_loss:.3f}')\n",
        "    print(f'\\tVal Loss: {val_loss:.3f}')"
      ]
    },
    {
      "cell_type": "markdown",
      "id": "f7f39e45",
      "metadata": {
        "id": "f7f39e45"
      },
      "source": [
        "[link text](https://)The train loss should decrease from around 5.7 to 2.8 after 20 epochs."
      ]
    },
    {
      "cell_type": "markdown",
      "id": "fc7d30f7",
      "metadata": {
        "id": "fc7d30f7"
      },
      "source": [
        "#### Translating a Sample Sentence"
      ]
    },
    {
      "cell_type": "code",
      "execution_count": 127,
      "id": "15293ac2",
      "metadata": {
        "id": "15293ac2"
      },
      "outputs": [],
      "source": [
        "def translate_sentence(model, sentence, vocab_src, vocab_tgt, max_length=50):\n",
        "    \"\"\"\n",
        "    Translates a given source sentence into the target language using a trained Transformer model.\n",
        "    The function preprocesses the input sentence by tokenizing and converting it to tensor format,\n",
        "    then uses the model's encode and decode methods to generate the translated sentence.\n",
        "\n",
        "    Parameters:\n",
        "    - model (torch.nn.Module): The trained Transformer model.\n",
        "    - sentence (str): The source sentence to translate.\n",
        "    - vocab_src (dict): The source vocabulary mapping of tokens to indices.\n",
        "    - vocab_tgt (dict): The target vocabulary mapping of indices to tokens.\n",
        "    - max_length (int, optional): The maximum allowed length for the generated translation.\n",
        "\n",
        "    Returns:\n",
        "    - str: The translated sentence as a string of text in the target language.\n",
        "    \"\"\"\n",
        "\n",
        "    # Set device\n",
        "    device = 'cuda' if torch.cuda.is_available() else 'cpu'\n",
        "    model.to(device)  # Move the model to the appropriate device\n",
        "\n",
        "    # Tokenize the input sentence\n",
        "    src_tokens = [vocab_src['<bos>']] + [vocab_src[token] for token in sentence.split()] + [vocab_src['<eos>']]\n",
        "    src_tensor = torch.tensor(src_tokens).unsqueeze(0).to(device)  # Move input tensor to the device\n",
        "\n",
        "    # Pass the source tensor through the encoder\n",
        "    with torch.no_grad():\n",
        "        memory, src_mask = model.encode(src_tensor)\n",
        "\n",
        "    # Initialize the target sequence with the <bos> token\n",
        "    tgt_tokens = [vocab_tgt['<bos>']]\n",
        "    tgt_tensor = torch.tensor(tgt_tokens).unsqueeze(0).to(device)  # Move target tensor to the device\n",
        "\n",
        "    # Generate the translation token by token\n",
        "    for _ in range(max_length):\n",
        "        with torch.no_grad():\n",
        "            output = model.decode(tgt_tensor, memory, src_mask)  # Shape: (1, tgt_len, tgt_vocab_size)\n",
        "\n",
        "        # Get the last output token probabilities and sample the next token\n",
        "        next_token_logits = output[:, -1, :]  # Shape: (1, tgt_vocab_size)\n",
        "        next_token = torch.argmax(next_token_logits, dim=-1).item()  # Get the index of the max probability token\n",
        "\n",
        "        # Append the predicted token to the target tensor\n",
        "        tgt_tokens.append(next_token)\n",
        "        tgt_tensor = torch.tensor(tgt_tokens).unsqueeze(0).to(device)  # Update target tensor shape and move to device\n",
        "\n",
        "        # Stop if the <eos> token is generated\n",
        "        if next_token == vocab_tgt['<eos>']:\n",
        "            break\n",
        "\n",
        "    # Convert the target token indices back to the string representation\n",
        "    translated_sentence = ' '.join(vocab_tgt.lookup_token(token) for token in tgt_tokens[1:-1])  # Exclude <bos> and <eos>\n",
        "\n",
        "    return translated_sentence\n"
      ]
    },
    {
      "cell_type": "code",
      "execution_count": 128,
      "id": "baeb62e4",
      "metadata": {
        "id": "baeb62e4",
        "colab": {
          "base_uri": "https://localhost:8080/"
        },
        "outputId": "d467bcd1-e11f-4bc0-fbd6-30f7930a02e9"
      },
      "outputs": [
        {
          "output_type": "stream",
          "name": "stdout",
          "text": [
            "Translated sentence: A young boy is playing with a toy .\n"
          ]
        }
      ],
      "source": [
        "src_sentence = \"Ein kleiner Junge spielt draußen mit einem Ball.\"  # German for \"A little boy playing outside with a ball.\"\n",
        "translated_sentence = translate_sentence(model, src_sentence, vocab_src, vocab_tgt)\n",
        "print(f'Translated sentence: {translated_sentence}')"
      ]
    },
    {
      "cell_type": "markdown",
      "id": "26642c2e",
      "metadata": {
        "id": "26642c2e"
      },
      "source": [
        "You should get a translation similar to the reference after 20 epochs of training."
      ]
    },
    {
      "cell_type": "code",
      "execution_count": null,
      "id": "0e8feeea",
      "metadata": {
        "id": "0e8feeea"
      },
      "outputs": [],
      "source": []
    }
  ],
  "metadata": {
    "colab": {
      "provenance": [],
      "gpuType": "T4"
    },
    "kernelspec": {
      "display_name": "Python 3",
      "name": "python3"
    },
    "language_info": {
      "codemirror_mode": {
        "name": "ipython",
        "version": 3
      },
      "file_extension": ".py",
      "mimetype": "text/x-python",
      "name": "python",
      "nbconvert_exporter": "python",
      "pygments_lexer": "ipython3",
      "version": "3.11.5"
    },
    "accelerator": "GPU"
  },
  "nbformat": 4,
  "nbformat_minor": 5
}